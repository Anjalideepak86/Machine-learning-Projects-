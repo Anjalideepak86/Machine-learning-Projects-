{
 "cells": [
  {
   "cell_type": "markdown",
   "id": "b454591d",
   "metadata": {},
   "source": [
    "\n",
    "#  CAR PRICE PREDICTION USING ML"
   ]
  },
  {
   "cell_type": "markdown",
   "id": "aaf6fca5",
   "metadata": {},
   "source": [
    "# Import Dependencies"
   ]
  },
  {
   "cell_type": "code",
   "execution_count": 1,
   "id": "d5d1375d",
   "metadata": {},
   "outputs": [
    {
     "name": "stderr",
     "output_type": "stream",
     "text": [
      "C:\\ProgramData\\Anaconda3\\lib\\site-packages\\scipy\\__init__.py:146: UserWarning: A NumPy version >=1.16.5 and <1.23.0 is required for this version of SciPy (detected version 1.26.4\n",
      "  warnings.warn(f\"A NumPy version >={np_minversion} and <{np_maxversion}\"\n"
     ]
    }
   ],
   "source": [
    "import numpy as np\n",
    "import pandas as pd\n",
    "import matplotlib.pyplot as plt\n",
    "import seaborn as sns\n",
    "import os\n",
    "from sklearn.model_selection import train_test_split\n",
    "from sklearn.linear_model import LogisticRegression\n",
    "from sklearn.tree import DecisionTreeRegressor\n",
    "from sklearn.ensemble import RandomForestRegressor\n",
    "from sklearn.ensemble import GradientBoostingRegressor\n",
    "from sklearn.metrics import mean_squared_error,accuracy_score,r2_score\n",
    "from sklearn.preprocessing import StandardScaler\n",
    "import warnings\n",
    "warnings.filterwarnings('ignore')"
   ]
  },
  {
   "cell_type": "markdown",
   "id": "e0cae9e6",
   "metadata": {},
   "source": [
    "# Load Dataset"
   ]
  },
  {
   "cell_type": "code",
   "execution_count": 2,
   "id": "222d0707",
   "metadata": {},
   "outputs": [
    {
     "data": {
      "text/html": [
       "<div>\n",
       "<style scoped>\n",
       "    .dataframe tbody tr th:only-of-type {\n",
       "        vertical-align: middle;\n",
       "    }\n",
       "\n",
       "    .dataframe tbody tr th {\n",
       "        vertical-align: top;\n",
       "    }\n",
       "\n",
       "    .dataframe thead th {\n",
       "        text-align: right;\n",
       "    }\n",
       "</style>\n",
       "<table border=\"1\" class=\"dataframe\">\n",
       "  <thead>\n",
       "    <tr style=\"text-align: right;\">\n",
       "      <th></th>\n",
       "      <th>Unnamed: 0</th>\n",
       "      <th>Make</th>\n",
       "      <th>Model</th>\n",
       "      <th>Year</th>\n",
       "      <th>Mileage</th>\n",
       "      <th>Condition</th>\n",
       "      <th>Price</th>\n",
       "    </tr>\n",
       "  </thead>\n",
       "  <tbody>\n",
       "    <tr>\n",
       "      <th>0</th>\n",
       "      <td>0</td>\n",
       "      <td>Ford</td>\n",
       "      <td>Silverado</td>\n",
       "      <td>2022</td>\n",
       "      <td>18107</td>\n",
       "      <td>Excellent</td>\n",
       "      <td>19094.75</td>\n",
       "    </tr>\n",
       "    <tr>\n",
       "      <th>1</th>\n",
       "      <td>1</td>\n",
       "      <td>Toyota</td>\n",
       "      <td>Silverado</td>\n",
       "      <td>2014</td>\n",
       "      <td>13578</td>\n",
       "      <td>Excellent</td>\n",
       "      <td>27321.10</td>\n",
       "    </tr>\n",
       "    <tr>\n",
       "      <th>2</th>\n",
       "      <td>2</td>\n",
       "      <td>Chevrolet</td>\n",
       "      <td>Civic</td>\n",
       "      <td>2016</td>\n",
       "      <td>46054</td>\n",
       "      <td>Good</td>\n",
       "      <td>23697.30</td>\n",
       "    </tr>\n",
       "    <tr>\n",
       "      <th>3</th>\n",
       "      <td>3</td>\n",
       "      <td>Ford</td>\n",
       "      <td>Civic</td>\n",
       "      <td>2022</td>\n",
       "      <td>34981</td>\n",
       "      <td>Excellent</td>\n",
       "      <td>18251.05</td>\n",
       "    </tr>\n",
       "    <tr>\n",
       "      <th>4</th>\n",
       "      <td>4</td>\n",
       "      <td>Chevrolet</td>\n",
       "      <td>Civic</td>\n",
       "      <td>2019</td>\n",
       "      <td>63565</td>\n",
       "      <td>Excellent</td>\n",
       "      <td>19821.85</td>\n",
       "    </tr>\n",
       "    <tr>\n",
       "      <th>...</th>\n",
       "      <td>...</td>\n",
       "      <td>...</td>\n",
       "      <td>...</td>\n",
       "      <td>...</td>\n",
       "      <td>...</td>\n",
       "      <td>...</td>\n",
       "      <td>...</td>\n",
       "    </tr>\n",
       "    <tr>\n",
       "      <th>995</th>\n",
       "      <td>995</td>\n",
       "      <td>Nissan</td>\n",
       "      <td>Camry</td>\n",
       "      <td>2010</td>\n",
       "      <td>149032</td>\n",
       "      <td>Excellent</td>\n",
       "      <td>24548.50</td>\n",
       "    </tr>\n",
       "    <tr>\n",
       "      <th>996</th>\n",
       "      <td>996</td>\n",
       "      <td>Chevrolet</td>\n",
       "      <td>F-150</td>\n",
       "      <td>2014</td>\n",
       "      <td>20608</td>\n",
       "      <td>Excellent</td>\n",
       "      <td>26969.70</td>\n",
       "    </tr>\n",
       "    <tr>\n",
       "      <th>997</th>\n",
       "      <td>997</td>\n",
       "      <td>Ford</td>\n",
       "      <td>Altima</td>\n",
       "      <td>2016</td>\n",
       "      <td>109851</td>\n",
       "      <td>Good</td>\n",
       "      <td>20507.55</td>\n",
       "    </tr>\n",
       "    <tr>\n",
       "      <th>998</th>\n",
       "      <td>998</td>\n",
       "      <td>Toyota</td>\n",
       "      <td>Silverado</td>\n",
       "      <td>2010</td>\n",
       "      <td>11704</td>\n",
       "      <td>Good</td>\n",
       "      <td>31414.90</td>\n",
       "    </tr>\n",
       "    <tr>\n",
       "      <th>999</th>\n",
       "      <td>999</td>\n",
       "      <td>Nissan</td>\n",
       "      <td>Silverado</td>\n",
       "      <td>2017</td>\n",
       "      <td>128390</td>\n",
       "      <td>Excellent</td>\n",
       "      <td>18580.60</td>\n",
       "    </tr>\n",
       "  </tbody>\n",
       "</table>\n",
       "<p>1000 rows × 7 columns</p>\n",
       "</div>"
      ],
      "text/plain": [
       "     Unnamed: 0       Make      Model  Year  Mileage  Condition     Price\n",
       "0             0       Ford  Silverado  2022    18107  Excellent  19094.75\n",
       "1             1     Toyota  Silverado  2014    13578  Excellent  27321.10\n",
       "2             2  Chevrolet      Civic  2016    46054       Good  23697.30\n",
       "3             3       Ford      Civic  2022    34981  Excellent  18251.05\n",
       "4             4  Chevrolet      Civic  2019    63565  Excellent  19821.85\n",
       "..          ...        ...        ...   ...      ...        ...       ...\n",
       "995         995     Nissan      Camry  2010   149032  Excellent  24548.50\n",
       "996         996  Chevrolet      F-150  2014    20608  Excellent  26969.70\n",
       "997         997       Ford     Altima  2016   109851       Good  20507.55\n",
       "998         998     Toyota  Silverado  2010    11704       Good  31414.90\n",
       "999         999     Nissan  Silverado  2017   128390  Excellent  18580.60\n",
       "\n",
       "[1000 rows x 7 columns]"
      ]
     },
     "execution_count": 2,
     "metadata": {},
     "output_type": "execute_result"
    }
   ],
   "source": [
    "df=pd.read_csv(r\"D:\\anjali\\CarPricesPrediction.csv\")\n",
    "df"
   ]
  },
  {
   "cell_type": "code",
   "execution_count": 3,
   "id": "ddbd1dba",
   "metadata": {},
   "outputs": [
    {
     "data": {
      "text/plain": [
       "(1000, 7)"
      ]
     },
     "execution_count": 3,
     "metadata": {},
     "output_type": "execute_result"
    }
   ],
   "source": [
    "#To find rows andcolumns\n",
    "df.shape"
   ]
  },
  {
   "cell_type": "code",
   "execution_count": 4,
   "id": "78705b74",
   "metadata": {},
   "outputs": [
    {
     "name": "stdout",
     "output_type": "stream",
     "text": [
      "<class 'pandas.core.frame.DataFrame'>\n",
      "RangeIndex: 1000 entries, 0 to 999\n",
      "Data columns (total 7 columns):\n",
      " #   Column      Non-Null Count  Dtype  \n",
      "---  ------      --------------  -----  \n",
      " 0   Unnamed: 0  1000 non-null   int64  \n",
      " 1   Make        1000 non-null   object \n",
      " 2   Model       1000 non-null   object \n",
      " 3   Year        1000 non-null   int64  \n",
      " 4   Mileage     1000 non-null   int64  \n",
      " 5   Condition   1000 non-null   object \n",
      " 6   Price       1000 non-null   float64\n",
      "dtypes: float64(1), int64(3), object(3)\n",
      "memory usage: 54.8+ KB\n"
     ]
    }
   ],
   "source": [
    "#Returns the infomation about dataset\n",
    "df.info()"
   ]
  },
  {
   "cell_type": "code",
   "execution_count": 5,
   "id": "4d68eedc",
   "metadata": {},
   "outputs": [
    {
     "data": {
      "text/html": [
       "<div>\n",
       "<style scoped>\n",
       "    .dataframe tbody tr th:only-of-type {\n",
       "        vertical-align: middle;\n",
       "    }\n",
       "\n",
       "    .dataframe tbody tr th {\n",
       "        vertical-align: top;\n",
       "    }\n",
       "\n",
       "    .dataframe thead th {\n",
       "        text-align: right;\n",
       "    }\n",
       "</style>\n",
       "<table border=\"1\" class=\"dataframe\">\n",
       "  <thead>\n",
       "    <tr style=\"text-align: right;\">\n",
       "      <th></th>\n",
       "      <th>Unnamed: 0</th>\n",
       "      <th>Year</th>\n",
       "      <th>Mileage</th>\n",
       "      <th>Price</th>\n",
       "    </tr>\n",
       "  </thead>\n",
       "  <tbody>\n",
       "    <tr>\n",
       "      <th>count</th>\n",
       "      <td>1000.000000</td>\n",
       "      <td>1000.00000</td>\n",
       "      <td>1000.000000</td>\n",
       "      <td>1000.000000</td>\n",
       "    </tr>\n",
       "    <tr>\n",
       "      <th>mean</th>\n",
       "      <td>499.500000</td>\n",
       "      <td>2015.86500</td>\n",
       "      <td>78796.927000</td>\n",
       "      <td>22195.205650</td>\n",
       "    </tr>\n",
       "    <tr>\n",
       "      <th>std</th>\n",
       "      <td>288.819436</td>\n",
       "      <td>3.78247</td>\n",
       "      <td>39842.259941</td>\n",
       "      <td>4245.191585</td>\n",
       "    </tr>\n",
       "    <tr>\n",
       "      <th>min</th>\n",
       "      <td>0.000000</td>\n",
       "      <td>2010.00000</td>\n",
       "      <td>10079.000000</td>\n",
       "      <td>12613.000000</td>\n",
       "    </tr>\n",
       "    <tr>\n",
       "      <th>25%</th>\n",
       "      <td>249.750000</td>\n",
       "      <td>2013.00000</td>\n",
       "      <td>44942.750000</td>\n",
       "      <td>18961.862500</td>\n",
       "    </tr>\n",
       "    <tr>\n",
       "      <th>50%</th>\n",
       "      <td>499.500000</td>\n",
       "      <td>2016.00000</td>\n",
       "      <td>78056.500000</td>\n",
       "      <td>22247.875000</td>\n",
       "    </tr>\n",
       "    <tr>\n",
       "      <th>75%</th>\n",
       "      <td>749.250000</td>\n",
       "      <td>2019.00000</td>\n",
       "      <td>112366.250000</td>\n",
       "      <td>25510.275000</td>\n",
       "    </tr>\n",
       "    <tr>\n",
       "      <th>max</th>\n",
       "      <td>999.000000</td>\n",
       "      <td>2022.00000</td>\n",
       "      <td>149794.000000</td>\n",
       "      <td>31414.900000</td>\n",
       "    </tr>\n",
       "  </tbody>\n",
       "</table>\n",
       "</div>"
      ],
      "text/plain": [
       "        Unnamed: 0        Year        Mileage         Price\n",
       "count  1000.000000  1000.00000    1000.000000   1000.000000\n",
       "mean    499.500000  2015.86500   78796.927000  22195.205650\n",
       "std     288.819436     3.78247   39842.259941   4245.191585\n",
       "min       0.000000  2010.00000   10079.000000  12613.000000\n",
       "25%     249.750000  2013.00000   44942.750000  18961.862500\n",
       "50%     499.500000  2016.00000   78056.500000  22247.875000\n",
       "75%     749.250000  2019.00000  112366.250000  25510.275000\n",
       "max     999.000000  2022.00000  149794.000000  31414.900000"
      ]
     },
     "execution_count": 5,
     "metadata": {},
     "output_type": "execute_result"
    }
   ],
   "source": [
    "df.describe()# CHECK STATISTICS OF DATASET"
   ]
  },
  {
   "cell_type": "code",
   "execution_count": 6,
   "id": "7f5c16e1",
   "metadata": {},
   "outputs": [
    {
     "data": {
      "text/html": [
       "<div>\n",
       "<style scoped>\n",
       "    .dataframe tbody tr th:only-of-type {\n",
       "        vertical-align: middle;\n",
       "    }\n",
       "\n",
       "    .dataframe tbody tr th {\n",
       "        vertical-align: top;\n",
       "    }\n",
       "\n",
       "    .dataframe thead th {\n",
       "        text-align: right;\n",
       "    }\n",
       "</style>\n",
       "<table border=\"1\" class=\"dataframe\">\n",
       "  <thead>\n",
       "    <tr style=\"text-align: right;\">\n",
       "      <th></th>\n",
       "      <th>Make</th>\n",
       "      <th>Model</th>\n",
       "      <th>Year</th>\n",
       "      <th>Mileage</th>\n",
       "      <th>Condition</th>\n",
       "      <th>Price</th>\n",
       "    </tr>\n",
       "  </thead>\n",
       "  <tbody>\n",
       "    <tr>\n",
       "      <th>0</th>\n",
       "      <td>Ford</td>\n",
       "      <td>Silverado</td>\n",
       "      <td>2022</td>\n",
       "      <td>18107</td>\n",
       "      <td>Excellent</td>\n",
       "      <td>19094.75</td>\n",
       "    </tr>\n",
       "    <tr>\n",
       "      <th>1</th>\n",
       "      <td>Toyota</td>\n",
       "      <td>Silverado</td>\n",
       "      <td>2014</td>\n",
       "      <td>13578</td>\n",
       "      <td>Excellent</td>\n",
       "      <td>27321.10</td>\n",
       "    </tr>\n",
       "    <tr>\n",
       "      <th>2</th>\n",
       "      <td>Chevrolet</td>\n",
       "      <td>Civic</td>\n",
       "      <td>2016</td>\n",
       "      <td>46054</td>\n",
       "      <td>Good</td>\n",
       "      <td>23697.30</td>\n",
       "    </tr>\n",
       "    <tr>\n",
       "      <th>3</th>\n",
       "      <td>Ford</td>\n",
       "      <td>Civic</td>\n",
       "      <td>2022</td>\n",
       "      <td>34981</td>\n",
       "      <td>Excellent</td>\n",
       "      <td>18251.05</td>\n",
       "    </tr>\n",
       "    <tr>\n",
       "      <th>4</th>\n",
       "      <td>Chevrolet</td>\n",
       "      <td>Civic</td>\n",
       "      <td>2019</td>\n",
       "      <td>63565</td>\n",
       "      <td>Excellent</td>\n",
       "      <td>19821.85</td>\n",
       "    </tr>\n",
       "    <tr>\n",
       "      <th>...</th>\n",
       "      <td>...</td>\n",
       "      <td>...</td>\n",
       "      <td>...</td>\n",
       "      <td>...</td>\n",
       "      <td>...</td>\n",
       "      <td>...</td>\n",
       "    </tr>\n",
       "    <tr>\n",
       "      <th>995</th>\n",
       "      <td>Nissan</td>\n",
       "      <td>Camry</td>\n",
       "      <td>2010</td>\n",
       "      <td>149032</td>\n",
       "      <td>Excellent</td>\n",
       "      <td>24548.50</td>\n",
       "    </tr>\n",
       "    <tr>\n",
       "      <th>996</th>\n",
       "      <td>Chevrolet</td>\n",
       "      <td>F-150</td>\n",
       "      <td>2014</td>\n",
       "      <td>20608</td>\n",
       "      <td>Excellent</td>\n",
       "      <td>26969.70</td>\n",
       "    </tr>\n",
       "    <tr>\n",
       "      <th>997</th>\n",
       "      <td>Ford</td>\n",
       "      <td>Altima</td>\n",
       "      <td>2016</td>\n",
       "      <td>109851</td>\n",
       "      <td>Good</td>\n",
       "      <td>20507.55</td>\n",
       "    </tr>\n",
       "    <tr>\n",
       "      <th>998</th>\n",
       "      <td>Toyota</td>\n",
       "      <td>Silverado</td>\n",
       "      <td>2010</td>\n",
       "      <td>11704</td>\n",
       "      <td>Good</td>\n",
       "      <td>31414.90</td>\n",
       "    </tr>\n",
       "    <tr>\n",
       "      <th>999</th>\n",
       "      <td>Nissan</td>\n",
       "      <td>Silverado</td>\n",
       "      <td>2017</td>\n",
       "      <td>128390</td>\n",
       "      <td>Excellent</td>\n",
       "      <td>18580.60</td>\n",
       "    </tr>\n",
       "  </tbody>\n",
       "</table>\n",
       "<p>1000 rows × 6 columns</p>\n",
       "</div>"
      ],
      "text/plain": [
       "          Make      Model  Year  Mileage  Condition     Price\n",
       "0         Ford  Silverado  2022    18107  Excellent  19094.75\n",
       "1       Toyota  Silverado  2014    13578  Excellent  27321.10\n",
       "2    Chevrolet      Civic  2016    46054       Good  23697.30\n",
       "3         Ford      Civic  2022    34981  Excellent  18251.05\n",
       "4    Chevrolet      Civic  2019    63565  Excellent  19821.85\n",
       "..         ...        ...   ...      ...        ...       ...\n",
       "995     Nissan      Camry  2010   149032  Excellent  24548.50\n",
       "996  Chevrolet      F-150  2014    20608  Excellent  26969.70\n",
       "997       Ford     Altima  2016   109851       Good  20507.55\n",
       "998     Toyota  Silverado  2010    11704       Good  31414.90\n",
       "999     Nissan  Silverado  2017   128390  Excellent  18580.60\n",
       "\n",
       "[1000 rows x 6 columns]"
      ]
     },
     "execution_count": 6,
     "metadata": {},
     "output_type": "execute_result"
    }
   ],
   "source": [
    "df=df.drop(['Unnamed: 0'],axis=1)\n",
    "df"
   ]
  },
  {
   "cell_type": "code",
   "execution_count": 7,
   "id": "0701fe30",
   "metadata": {},
   "outputs": [
    {
     "data": {
      "text/plain": [
       "Make         0\n",
       "Model        0\n",
       "Year         0\n",
       "Mileage      0\n",
       "Condition    0\n",
       "Price        0\n",
       "dtype: int64"
      ]
     },
     "execution_count": 7,
     "metadata": {},
     "output_type": "execute_result"
    }
   ],
   "source": [
    "#checking missing value\n",
    "df.isna().sum()"
   ]
  },
  {
   "cell_type": "code",
   "execution_count": 8,
   "id": "e0a89a4f",
   "metadata": {},
   "outputs": [
    {
     "data": {
      "text/html": [
       "<div>\n",
       "<style scoped>\n",
       "    .dataframe tbody tr th:only-of-type {\n",
       "        vertical-align: middle;\n",
       "    }\n",
       "\n",
       "    .dataframe tbody tr th {\n",
       "        vertical-align: top;\n",
       "    }\n",
       "\n",
       "    .dataframe thead th {\n",
       "        text-align: right;\n",
       "    }\n",
       "</style>\n",
       "<table border=\"1\" class=\"dataframe\">\n",
       "  <thead>\n",
       "    <tr style=\"text-align: right;\">\n",
       "      <th></th>\n",
       "      <th>Make</th>\n",
       "      <th>Model</th>\n",
       "      <th>Year</th>\n",
       "      <th>Mileage</th>\n",
       "      <th>Condition</th>\n",
       "      <th>Price</th>\n",
       "    </tr>\n",
       "  </thead>\n",
       "  <tbody>\n",
       "    <tr>\n",
       "      <th>0</th>\n",
       "      <td>Ford</td>\n",
       "      <td>Silverado</td>\n",
       "      <td>2022</td>\n",
       "      <td>18107</td>\n",
       "      <td>Excellent</td>\n",
       "      <td>19094.75</td>\n",
       "    </tr>\n",
       "    <tr>\n",
       "      <th>1</th>\n",
       "      <td>Toyota</td>\n",
       "      <td>Silverado</td>\n",
       "      <td>2014</td>\n",
       "      <td>13578</td>\n",
       "      <td>Excellent</td>\n",
       "      <td>27321.10</td>\n",
       "    </tr>\n",
       "    <tr>\n",
       "      <th>2</th>\n",
       "      <td>Chevrolet</td>\n",
       "      <td>Civic</td>\n",
       "      <td>2016</td>\n",
       "      <td>46054</td>\n",
       "      <td>Good</td>\n",
       "      <td>23697.30</td>\n",
       "    </tr>\n",
       "    <tr>\n",
       "      <th>3</th>\n",
       "      <td>Ford</td>\n",
       "      <td>Civic</td>\n",
       "      <td>2022</td>\n",
       "      <td>34981</td>\n",
       "      <td>Excellent</td>\n",
       "      <td>18251.05</td>\n",
       "    </tr>\n",
       "    <tr>\n",
       "      <th>4</th>\n",
       "      <td>Chevrolet</td>\n",
       "      <td>Civic</td>\n",
       "      <td>2019</td>\n",
       "      <td>63565</td>\n",
       "      <td>Excellent</td>\n",
       "      <td>19821.85</td>\n",
       "    </tr>\n",
       "  </tbody>\n",
       "</table>\n",
       "</div>"
      ],
      "text/plain": [
       "        Make      Model  Year  Mileage  Condition     Price\n",
       "0       Ford  Silverado  2022    18107  Excellent  19094.75\n",
       "1     Toyota  Silverado  2014    13578  Excellent  27321.10\n",
       "2  Chevrolet      Civic  2016    46054       Good  23697.30\n",
       "3       Ford      Civic  2022    34981  Excellent  18251.05\n",
       "4  Chevrolet      Civic  2019    63565  Excellent  19821.85"
      ]
     },
     "execution_count": 8,
     "metadata": {},
     "output_type": "execute_result"
    }
   ],
   "source": [
    "#Returns rows\n",
    "df.head()"
   ]
  },
  {
   "cell_type": "code",
   "execution_count": 9,
   "id": "1aa0770c",
   "metadata": {},
   "outputs": [
    {
     "data": {
      "text/html": [
       "<div>\n",
       "<style scoped>\n",
       "    .dataframe tbody tr th:only-of-type {\n",
       "        vertical-align: middle;\n",
       "    }\n",
       "\n",
       "    .dataframe tbody tr th {\n",
       "        vertical-align: top;\n",
       "    }\n",
       "\n",
       "    .dataframe thead th {\n",
       "        text-align: right;\n",
       "    }\n",
       "</style>\n",
       "<table border=\"1\" class=\"dataframe\">\n",
       "  <thead>\n",
       "    <tr style=\"text-align: right;\">\n",
       "      <th></th>\n",
       "      <th>Make</th>\n",
       "      <th>Model</th>\n",
       "      <th>Year</th>\n",
       "      <th>Mileage</th>\n",
       "      <th>Condition</th>\n",
       "      <th>Price</th>\n",
       "    </tr>\n",
       "  </thead>\n",
       "  <tbody>\n",
       "    <tr>\n",
       "      <th>995</th>\n",
       "      <td>Nissan</td>\n",
       "      <td>Camry</td>\n",
       "      <td>2010</td>\n",
       "      <td>149032</td>\n",
       "      <td>Excellent</td>\n",
       "      <td>24548.50</td>\n",
       "    </tr>\n",
       "    <tr>\n",
       "      <th>996</th>\n",
       "      <td>Chevrolet</td>\n",
       "      <td>F-150</td>\n",
       "      <td>2014</td>\n",
       "      <td>20608</td>\n",
       "      <td>Excellent</td>\n",
       "      <td>26969.70</td>\n",
       "    </tr>\n",
       "    <tr>\n",
       "      <th>997</th>\n",
       "      <td>Ford</td>\n",
       "      <td>Altima</td>\n",
       "      <td>2016</td>\n",
       "      <td>109851</td>\n",
       "      <td>Good</td>\n",
       "      <td>20507.55</td>\n",
       "    </tr>\n",
       "    <tr>\n",
       "      <th>998</th>\n",
       "      <td>Toyota</td>\n",
       "      <td>Silverado</td>\n",
       "      <td>2010</td>\n",
       "      <td>11704</td>\n",
       "      <td>Good</td>\n",
       "      <td>31414.90</td>\n",
       "    </tr>\n",
       "    <tr>\n",
       "      <th>999</th>\n",
       "      <td>Nissan</td>\n",
       "      <td>Silverado</td>\n",
       "      <td>2017</td>\n",
       "      <td>128390</td>\n",
       "      <td>Excellent</td>\n",
       "      <td>18580.60</td>\n",
       "    </tr>\n",
       "  </tbody>\n",
       "</table>\n",
       "</div>"
      ],
      "text/plain": [
       "          Make      Model  Year  Mileage  Condition     Price\n",
       "995     Nissan      Camry  2010   149032  Excellent  24548.50\n",
       "996  Chevrolet      F-150  2014    20608  Excellent  26969.70\n",
       "997       Ford     Altima  2016   109851       Good  20507.55\n",
       "998     Toyota  Silverado  2010    11704       Good  31414.90\n",
       "999     Nissan  Silverado  2017   128390  Excellent  18580.60"
      ]
     },
     "execution_count": 9,
     "metadata": {},
     "output_type": "execute_result"
    }
   ],
   "source": [
    "df.tail()"
   ]
  },
  {
   "cell_type": "code",
   "execution_count": 10,
   "id": "5a52abe4",
   "metadata": {},
   "outputs": [
    {
     "name": "stdout",
     "output_type": "stream",
     "text": [
      "0\n"
     ]
    }
   ],
   "source": [
    "#check the duplication\n",
    "print(df.duplicated().sum()) "
   ]
  },
  {
   "cell_type": "code",
   "execution_count": 11,
   "id": "04d0e57f",
   "metadata": {},
   "outputs": [
    {
     "data": {
      "text/plain": [
       "Index(['Make', 'Model', 'Year', 'Mileage', 'Condition', 'Price'], dtype='object')"
      ]
     },
     "execution_count": 11,
     "metadata": {},
     "output_type": "execute_result"
    }
   ],
   "source": [
    "#Returns the index of columns\n",
    "df.columns"
   ]
  },
  {
   "cell_type": "code",
   "execution_count": 12,
   "id": "3d5c4b9d",
   "metadata": {},
   "outputs": [
    {
     "data": {
      "text/plain": [
       "Make          object\n",
       "Model         object\n",
       "Year           int64\n",
       "Mileage        int64\n",
       "Condition     object\n",
       "Price        float64\n",
       "dtype: object"
      ]
     },
     "execution_count": 12,
     "metadata": {},
     "output_type": "execute_result"
    }
   ],
   "source": [
    "#Returns the different datatypes\n",
    "df.dtypes"
   ]
  },
  {
   "cell_type": "code",
   "execution_count": 13,
   "id": "ad385ff8",
   "metadata": {},
   "outputs": [
    {
     "data": {
      "text/plain": [
       "Make           5\n",
       "Model          5\n",
       "Year          13\n",
       "Mileage      993\n",
       "Condition      3\n",
       "Price        997\n",
       "dtype: int64"
      ]
     },
     "execution_count": 13,
     "metadata": {},
     "output_type": "execute_result"
    }
   ],
   "source": [
    "#Check the number of unique values in each column\n",
    "df.nunique()"
   ]
  },
  {
   "cell_type": "code",
   "execution_count": 14,
   "id": "d87f98cf",
   "metadata": {},
   "outputs": [
    {
     "data": {
      "text/html": [
       "<div>\n",
       "<style scoped>\n",
       "    .dataframe tbody tr th:only-of-type {\n",
       "        vertical-align: middle;\n",
       "    }\n",
       "\n",
       "    .dataframe tbody tr th {\n",
       "        vertical-align: top;\n",
       "    }\n",
       "\n",
       "    .dataframe thead th {\n",
       "        text-align: right;\n",
       "    }\n",
       "</style>\n",
       "<table border=\"1\" class=\"dataframe\">\n",
       "  <thead>\n",
       "    <tr style=\"text-align: right;\">\n",
       "      <th></th>\n",
       "      <th>Year</th>\n",
       "      <th>Mileage</th>\n",
       "      <th>Price</th>\n",
       "    </tr>\n",
       "  </thead>\n",
       "  <tbody>\n",
       "    <tr>\n",
       "      <th>Year</th>\n",
       "      <td>1.000000</td>\n",
       "      <td>-0.01685</td>\n",
       "      <td>-0.883093</td>\n",
       "    </tr>\n",
       "    <tr>\n",
       "      <th>Mileage</th>\n",
       "      <td>-0.016850</td>\n",
       "      <td>1.00000</td>\n",
       "      <td>-0.454250</td>\n",
       "    </tr>\n",
       "    <tr>\n",
       "      <th>Price</th>\n",
       "      <td>-0.883093</td>\n",
       "      <td>-0.45425</td>\n",
       "      <td>1.000000</td>\n",
       "    </tr>\n",
       "  </tbody>\n",
       "</table>\n",
       "</div>"
      ],
      "text/plain": [
       "             Year  Mileage     Price\n",
       "Year     1.000000 -0.01685 -0.883093\n",
       "Mileage -0.016850  1.00000 -0.454250\n",
       "Price   -0.883093 -0.45425  1.000000"
      ]
     },
     "execution_count": 14,
     "metadata": {},
     "output_type": "execute_result"
    }
   ],
   "source": [
    "df.corr()"
   ]
  },
  {
   "cell_type": "code",
   "execution_count": 15,
   "id": "3b7eff53",
   "metadata": {},
   "outputs": [
    {
     "data": {
      "text/plain": [
       "<AxesSubplot:>"
      ]
     },
     "execution_count": 15,
     "metadata": {},
     "output_type": "execute_result"
    },
    {
     "data": {
      "image/png": "[encoded data removed]",
      "text/plain": [
       "<Figure size 720x360 with 2 Axes>"
      ]
     },
     "metadata": {
      "needs_background": "light"
     },
     "output_type": "display_data"
    }
   ],
   "source": [
    "#Returns the heatmap \n",
    "plt.figure(figsize=(10,5))\n",
    "sns.heatmap(df.corr(),annot=True)"
   ]
  },
  {
   "cell_type": "markdown",
   "id": "c2ffe918",
   "metadata": {},
   "source": [
    "# VISUALIZATION"
   ]
  },
  {
   "cell_type": "code",
   "execution_count": 16,
   "id": "8352fac5",
   "metadata": {},
   "outputs": [
    {
     "data": {
      "text/plain": [
       "<AxesSubplot:xlabel='Year', ylabel='Mileage'>"
      ]
     },
     "execution_count": 16,
     "metadata": {},
     "output_type": "execute_result"
    },
    {
     "data": {
      "image/png": "[encoded data removed]",
      "text/plain": [
       "<Figure size 432x288 with 1 Axes>"
      ]
     },
     "metadata": {
      "needs_background": "light"
     },
     "output_type": "display_data"
    }
   ],
   "source": [
    "sns.violinplot(x='Year',y='Mileage',data=df)"
   ]
  },
  {
   "cell_type": "code",
   "execution_count": 17,
   "id": "11a2b98e",
   "metadata": {
    "scrolled": false
   },
   "outputs": [
    {
     "data": {
      "text/plain": [
       "<AxesSubplot:xlabel='Model', ylabel='Price'>"
      ]
     },
     "execution_count": 17,
     "metadata": {},
     "output_type": "execute_result"
    },
    {
     "data": {
      "image/png": "[encoded data removed]",
      "text/plain": [
       "<Figure size 432x288 with 1 Axes>"
      ]
     },
     "metadata": {
      "needs_background": "light"
     },
     "output_type": "display_data"
    }
   ],
   "source": [
    "sns.scatterplot(data=df,x='Model',y='Price')"
   ]
  },
  {
   "cell_type": "code",
   "execution_count": 20,
   "id": "9cd8dc24",
   "metadata": {},
   "outputs": [
    {
     "data": {
      "text/plain": [
       "Text(0.5, 1.0, 'boxplot of year')"
      ]
     },
     "execution_count": 20,
     "metadata": {},
     "output_type": "execute_result"
    },
    {
     "data": {
      "image/png": "[encoded data removed]",
      "text/plain": [
       "<Figure size 432x288 with 1 Axes>"
      ]
     },
     "metadata": {
      "needs_background": "light"
     },
     "output_type": "display_data"
    }
   ],
   "source": [
    "plt.boxplot(df['Year'])\n",
    "plt.title('boxplot of year')"
   ]
  },
  {
   "cell_type": "code",
   "execution_count": 21,
   "id": "26722514",
   "metadata": {},
   "outputs": [
    {
     "data": {
      "text/plain": [
       "Text(0.5, 1.0, 'boxplot of mileage')"
      ]
     },
     "execution_count": 21,
     "metadata": {},
     "output_type": "execute_result"
    },
    {
     "data": {
      "image/png": "[encoded data removed]",
      "text/plain": [
       "<Figure size 432x288 with 1 Axes>"
      ]
     },
     "metadata": {
      "needs_background": "light"
     },
     "output_type": "display_data"
    }
   ],
   "source": [
    "plt.boxplot(df['Mileage'])\n",
    "plt.title('boxplot of mileage')"
   ]
  },
  {
   "cell_type": "code",
   "execution_count": 22,
   "id": "c940769b",
   "metadata": {
    "scrolled": true
   },
   "outputs": [
    {
     "data": {
      "text/html": [
       "<div>\n",
       "<style scoped>\n",
       "    .dataframe tbody tr th:only-of-type {\n",
       "        vertical-align: middle;\n",
       "    }\n",
       "\n",
       "    .dataframe tbody tr th {\n",
       "        vertical-align: top;\n",
       "    }\n",
       "\n",
       "    .dataframe thead th {\n",
       "        text-align: right;\n",
       "    }\n",
       "</style>\n",
       "<table border=\"1\" class=\"dataframe\">\n",
       "  <thead>\n",
       "    <tr style=\"text-align: right;\">\n",
       "      <th></th>\n",
       "      <th>Make</th>\n",
       "      <th>Model</th>\n",
       "      <th>Year</th>\n",
       "      <th>Mileage</th>\n",
       "      <th>Condition</th>\n",
       "      <th>Price</th>\n",
       "    </tr>\n",
       "  </thead>\n",
       "  <tbody>\n",
       "    <tr>\n",
       "      <th>0</th>\n",
       "      <td>1</td>\n",
       "      <td>4</td>\n",
       "      <td>2022</td>\n",
       "      <td>18107</td>\n",
       "      <td>0</td>\n",
       "      <td>19094.75</td>\n",
       "    </tr>\n",
       "    <tr>\n",
       "      <th>1</th>\n",
       "      <td>4</td>\n",
       "      <td>4</td>\n",
       "      <td>2014</td>\n",
       "      <td>13578</td>\n",
       "      <td>0</td>\n",
       "      <td>27321.10</td>\n",
       "    </tr>\n",
       "    <tr>\n",
       "      <th>2</th>\n",
       "      <td>0</td>\n",
       "      <td>2</td>\n",
       "      <td>2016</td>\n",
       "      <td>46054</td>\n",
       "      <td>2</td>\n",
       "      <td>23697.30</td>\n",
       "    </tr>\n",
       "    <tr>\n",
       "      <th>3</th>\n",
       "      <td>1</td>\n",
       "      <td>2</td>\n",
       "      <td>2022</td>\n",
       "      <td>34981</td>\n",
       "      <td>0</td>\n",
       "      <td>18251.05</td>\n",
       "    </tr>\n",
       "    <tr>\n",
       "      <th>4</th>\n",
       "      <td>0</td>\n",
       "      <td>2</td>\n",
       "      <td>2019</td>\n",
       "      <td>63565</td>\n",
       "      <td>0</td>\n",
       "      <td>19821.85</td>\n",
       "    </tr>\n",
       "  </tbody>\n",
       "</table>\n",
       "</div>"
      ],
      "text/plain": [
       "   Make  Model  Year  Mileage  Condition     Price\n",
       "0     1      4  2022    18107          0  19094.75\n",
       "1     4      4  2014    13578          0  27321.10\n",
       "2     0      2  2016    46054          2  23697.30\n",
       "3     1      2  2022    34981          0  18251.05\n",
       "4     0      2  2019    63565          0  19821.85"
      ]
     },
     "execution_count": 22,
     "metadata": {},
     "output_type": "execute_result"
    }
   ],
   "source": [
    "# ENCODING CATEGORICAL FEATURES\n",
    "#Label encoding\n",
    "from sklearn.preprocessing import LabelEncoder\n",
    "le=LabelEncoder()\n",
    "list=['Make','Model','Condition']\n",
    "for i in list:\n",
    "    df[i]=le.fit_transform(df[i])\n",
    "df.head()"
   ]
  },
  {
   "cell_type": "code",
   "execution_count": 23,
   "id": "e2555389",
   "metadata": {},
   "outputs": [
    {
     "data": {
      "text/html": [
       "<div>\n",
       "<style scoped>\n",
       "    .dataframe tbody tr th:only-of-type {\n",
       "        vertical-align: middle;\n",
       "    }\n",
       "\n",
       "    .dataframe tbody tr th {\n",
       "        vertical-align: top;\n",
       "    }\n",
       "\n",
       "    .dataframe thead th {\n",
       "        text-align: right;\n",
       "    }\n",
       "</style>\n",
       "<table border=\"1\" class=\"dataframe\">\n",
       "  <thead>\n",
       "    <tr style=\"text-align: right;\">\n",
       "      <th></th>\n",
       "      <th>Make</th>\n",
       "      <th>Model</th>\n",
       "      <th>Year</th>\n",
       "      <th>Mileage</th>\n",
       "      <th>Condition</th>\n",
       "    </tr>\n",
       "  </thead>\n",
       "  <tbody>\n",
       "    <tr>\n",
       "      <th>0</th>\n",
       "      <td>1</td>\n",
       "      <td>4</td>\n",
       "      <td>2022</td>\n",
       "      <td>18107</td>\n",
       "      <td>0</td>\n",
       "    </tr>\n",
       "    <tr>\n",
       "      <th>1</th>\n",
       "      <td>4</td>\n",
       "      <td>4</td>\n",
       "      <td>2014</td>\n",
       "      <td>13578</td>\n",
       "      <td>0</td>\n",
       "    </tr>\n",
       "    <tr>\n",
       "      <th>2</th>\n",
       "      <td>0</td>\n",
       "      <td>2</td>\n",
       "      <td>2016</td>\n",
       "      <td>46054</td>\n",
       "      <td>2</td>\n",
       "    </tr>\n",
       "    <tr>\n",
       "      <th>3</th>\n",
       "      <td>1</td>\n",
       "      <td>2</td>\n",
       "      <td>2022</td>\n",
       "      <td>34981</td>\n",
       "      <td>0</td>\n",
       "    </tr>\n",
       "    <tr>\n",
       "      <th>4</th>\n",
       "      <td>0</td>\n",
       "      <td>2</td>\n",
       "      <td>2019</td>\n",
       "      <td>63565</td>\n",
       "      <td>0</td>\n",
       "    </tr>\n",
       "    <tr>\n",
       "      <th>...</th>\n",
       "      <td>...</td>\n",
       "      <td>...</td>\n",
       "      <td>...</td>\n",
       "      <td>...</td>\n",
       "      <td>...</td>\n",
       "    </tr>\n",
       "    <tr>\n",
       "      <th>995</th>\n",
       "      <td>3</td>\n",
       "      <td>1</td>\n",
       "      <td>2010</td>\n",
       "      <td>149032</td>\n",
       "      <td>0</td>\n",
       "    </tr>\n",
       "    <tr>\n",
       "      <th>996</th>\n",
       "      <td>0</td>\n",
       "      <td>3</td>\n",
       "      <td>2014</td>\n",
       "      <td>20608</td>\n",
       "      <td>0</td>\n",
       "    </tr>\n",
       "    <tr>\n",
       "      <th>997</th>\n",
       "      <td>1</td>\n",
       "      <td>0</td>\n",
       "      <td>2016</td>\n",
       "      <td>109851</td>\n",
       "      <td>2</td>\n",
       "    </tr>\n",
       "    <tr>\n",
       "      <th>998</th>\n",
       "      <td>4</td>\n",
       "      <td>4</td>\n",
       "      <td>2010</td>\n",
       "      <td>11704</td>\n",
       "      <td>2</td>\n",
       "    </tr>\n",
       "    <tr>\n",
       "      <th>999</th>\n",
       "      <td>3</td>\n",
       "      <td>4</td>\n",
       "      <td>2017</td>\n",
       "      <td>128390</td>\n",
       "      <td>0</td>\n",
       "    </tr>\n",
       "  </tbody>\n",
       "</table>\n",
       "<p>1000 rows × 5 columns</p>\n",
       "</div>"
      ],
      "text/plain": [
       "     Make  Model  Year  Mileage  Condition\n",
       "0       1      4  2022    18107          0\n",
       "1       4      4  2014    13578          0\n",
       "2       0      2  2016    46054          2\n",
       "3       1      2  2022    34981          0\n",
       "4       0      2  2019    63565          0\n",
       "..    ...    ...   ...      ...        ...\n",
       "995     3      1  2010   149032          0\n",
       "996     0      3  2014    20608          0\n",
       "997     1      0  2016   109851          2\n",
       "998     4      4  2010    11704          2\n",
       "999     3      4  2017   128390          0\n",
       "\n",
       "[1000 rows x 5 columns]"
      ]
     },
     "execution_count": 23,
     "metadata": {},
     "output_type": "execute_result"
    }
   ],
   "source": [
    "#Data seperation\n",
    "x=df.drop(['Price'],axis=1)\n",
    "x"
   ]
  },
  {
   "cell_type": "code",
   "execution_count": 24,
   "id": "3b87883b",
   "metadata": {},
   "outputs": [
    {
     "data": {
      "text/plain": [
       "0      19094.75\n",
       "1      27321.10\n",
       "2      23697.30\n",
       "3      18251.05\n",
       "4      19821.85\n",
       "         ...   \n",
       "995    24548.50\n",
       "996    26969.70\n",
       "997    20507.55\n",
       "998    31414.90\n",
       "999    18580.60\n",
       "Name: Price, Length: 1000, dtype: float64"
      ]
     },
     "execution_count": 24,
     "metadata": {},
     "output_type": "execute_result"
    }
   ],
   "source": [
    "y=df['Price']\n",
    "y"
   ]
  },
  {
   "cell_type": "code",
   "execution_count": 25,
   "id": "e258dcb4",
   "metadata": {},
   "outputs": [
    {
     "data": {
      "text/plain": [
       "array([[-0.68639356,  1.45631611,  1.62276745, -1.52401733, -0.7816225 ],\n",
       "       [ 1.41266931,  1.45631611, -0.49331073, -1.63774748, -0.7816225 ],\n",
       "       [-1.38608118,  0.06404449,  0.03570882, -0.82222522,  1.46119672],\n",
       "       ...,\n",
       "       [-0.68639356, -1.32822713,  0.03570882,  0.7798155 ,  1.46119672],\n",
       "       [ 1.41266931,  1.45631611, -1.55134981, -1.6848065 ,  1.46119672],\n",
       "       [ 0.71298169,  1.45631611,  0.30021859,  1.24535828, -0.7816225 ]])"
      ]
     },
     "execution_count": 25,
     "metadata": {},
     "output_type": "execute_result"
    }
   ],
   "source": [
    "#Scaling\n",
    "from sklearn.preprocessing import StandardScaler\n",
    "sc=StandardScaler()\n",
    "x1=sc.fit_transform(x)\n",
    "x1"
   ]
  },
  {
   "cell_type": "code",
   "execution_count": 26,
   "id": "e9833939",
   "metadata": {},
   "outputs": [
    {
     "data": {
      "text/html": [
       "<div>\n",
       "<style scoped>\n",
       "    .dataframe tbody tr th:only-of-type {\n",
       "        vertical-align: middle;\n",
       "    }\n",
       "\n",
       "    .dataframe tbody tr th {\n",
       "        vertical-align: top;\n",
       "    }\n",
       "\n",
       "    .dataframe thead tr th {\n",
       "        text-align: left;\n",
       "    }\n",
       "</style>\n",
       "<table border=\"1\" class=\"dataframe\">\n",
       "  <thead>\n",
       "    <tr>\n",
       "      <th></th>\n",
       "      <th>Make</th>\n",
       "      <th>Model</th>\n",
       "      <th>Year</th>\n",
       "      <th>Mileage</th>\n",
       "      <th>Condition</th>\n",
       "    </tr>\n",
       "  </thead>\n",
       "  <tbody>\n",
       "    <tr>\n",
       "      <th>0</th>\n",
       "      <td>-0.686394</td>\n",
       "      <td>1.456316</td>\n",
       "      <td>1.622767</td>\n",
       "      <td>-1.524017</td>\n",
       "      <td>-0.781622</td>\n",
       "    </tr>\n",
       "    <tr>\n",
       "      <th>1</th>\n",
       "      <td>1.412669</td>\n",
       "      <td>1.456316</td>\n",
       "      <td>-0.493311</td>\n",
       "      <td>-1.637747</td>\n",
       "      <td>-0.781622</td>\n",
       "    </tr>\n",
       "    <tr>\n",
       "      <th>2</th>\n",
       "      <td>-1.386081</td>\n",
       "      <td>0.064044</td>\n",
       "      <td>0.035709</td>\n",
       "      <td>-0.822225</td>\n",
       "      <td>1.461197</td>\n",
       "    </tr>\n",
       "    <tr>\n",
       "      <th>3</th>\n",
       "      <td>-0.686394</td>\n",
       "      <td>0.064044</td>\n",
       "      <td>1.622767</td>\n",
       "      <td>-1.100285</td>\n",
       "      <td>-0.781622</td>\n",
       "    </tr>\n",
       "    <tr>\n",
       "      <th>4</th>\n",
       "      <td>-1.386081</td>\n",
       "      <td>0.064044</td>\n",
       "      <td>0.829238</td>\n",
       "      <td>-0.382497</td>\n",
       "      <td>-0.781622</td>\n",
       "    </tr>\n",
       "    <tr>\n",
       "      <th>...</th>\n",
       "      <td>...</td>\n",
       "      <td>...</td>\n",
       "      <td>...</td>\n",
       "      <td>...</td>\n",
       "      <td>...</td>\n",
       "    </tr>\n",
       "    <tr>\n",
       "      <th>995</th>\n",
       "      <td>0.712982</td>\n",
       "      <td>-0.632091</td>\n",
       "      <td>-1.551350</td>\n",
       "      <td>1.763711</td>\n",
       "      <td>-0.781622</td>\n",
       "    </tr>\n",
       "    <tr>\n",
       "      <th>996</th>\n",
       "      <td>-1.386081</td>\n",
       "      <td>0.760180</td>\n",
       "      <td>-0.493311</td>\n",
       "      <td>-1.461213</td>\n",
       "      <td>-0.781622</td>\n",
       "    </tr>\n",
       "    <tr>\n",
       "      <th>997</th>\n",
       "      <td>-0.686394</td>\n",
       "      <td>-1.328227</td>\n",
       "      <td>0.035709</td>\n",
       "      <td>0.779815</td>\n",
       "      <td>1.461197</td>\n",
       "    </tr>\n",
       "    <tr>\n",
       "      <th>998</th>\n",
       "      <td>1.412669</td>\n",
       "      <td>1.456316</td>\n",
       "      <td>-1.551350</td>\n",
       "      <td>-1.684807</td>\n",
       "      <td>1.461197</td>\n",
       "    </tr>\n",
       "    <tr>\n",
       "      <th>999</th>\n",
       "      <td>0.712982</td>\n",
       "      <td>1.456316</td>\n",
       "      <td>0.300219</td>\n",
       "      <td>1.245358</td>\n",
       "      <td>-0.781622</td>\n",
       "    </tr>\n",
       "  </tbody>\n",
       "</table>\n",
       "<p>1000 rows × 5 columns</p>\n",
       "</div>"
      ],
      "text/plain": [
       "         Make     Model      Year   Mileage Condition\n",
       "0   -0.686394  1.456316  1.622767 -1.524017 -0.781622\n",
       "1    1.412669  1.456316 -0.493311 -1.637747 -0.781622\n",
       "2   -1.386081  0.064044  0.035709 -0.822225  1.461197\n",
       "3   -0.686394  0.064044  1.622767 -1.100285 -0.781622\n",
       "4   -1.386081  0.064044  0.829238 -0.382497 -0.781622\n",
       "..        ...       ...       ...       ...       ...\n",
       "995  0.712982 -0.632091 -1.551350  1.763711 -0.781622\n",
       "996 -1.386081  0.760180 -0.493311 -1.461213 -0.781622\n",
       "997 -0.686394 -1.328227  0.035709  0.779815  1.461197\n",
       "998  1.412669  1.456316 -1.551350 -1.684807  1.461197\n",
       "999  0.712982  1.456316  0.300219  1.245358 -0.781622\n",
       "\n",
       "[1000 rows x 5 columns]"
      ]
     },
     "execution_count": 26,
     "metadata": {},
     "output_type": "execute_result"
    }
   ],
   "source": [
    "M=pd.DataFrame(x1,columns=[x])\n",
    "M"
   ]
  },
  {
   "cell_type": "code",
   "execution_count": 27,
   "id": "d396ac55",
   "metadata": {},
   "outputs": [],
   "source": [
    "x_train,x_test,y_train,y_test=train_test_split(x,y,test_size=0.2,random_state=42)"
   ]
  },
  {
   "cell_type": "code",
   "execution_count": 28,
   "id": "4928da54",
   "metadata": {},
   "outputs": [
    {
     "data": {
      "text/plain": [
       "(800, 5)"
      ]
     },
     "execution_count": 28,
     "metadata": {},
     "output_type": "execute_result"
    }
   ],
   "source": [
    "x_train.shape"
   ]
  },
  {
   "cell_type": "code",
   "execution_count": 29,
   "id": "5b09e9d8",
   "metadata": {},
   "outputs": [
    {
     "data": {
      "text/plain": [
       "(800,)"
      ]
     },
     "execution_count": 29,
     "metadata": {},
     "output_type": "execute_result"
    }
   ],
   "source": [
    "y_train.shape"
   ]
  },
  {
   "cell_type": "code",
   "execution_count": 30,
   "id": "7b0c2c98",
   "metadata": {},
   "outputs": [
    {
     "data": {
      "text/html": [
       "<div>\n",
       "<style scoped>\n",
       "    .dataframe tbody tr th:only-of-type {\n",
       "        vertical-align: middle;\n",
       "    }\n",
       "\n",
       "    .dataframe tbody tr th {\n",
       "        vertical-align: top;\n",
       "    }\n",
       "\n",
       "    .dataframe thead th {\n",
       "        text-align: right;\n",
       "    }\n",
       "</style>\n",
       "<table border=\"1\" class=\"dataframe\">\n",
       "  <thead>\n",
       "    <tr style=\"text-align: right;\">\n",
       "      <th></th>\n",
       "      <th>Make</th>\n",
       "      <th>Model</th>\n",
       "      <th>Year</th>\n",
       "      <th>Mileage</th>\n",
       "      <th>Condition</th>\n",
       "    </tr>\n",
       "  </thead>\n",
       "  <tbody>\n",
       "    <tr>\n",
       "      <th>29</th>\n",
       "      <td>2</td>\n",
       "      <td>3</td>\n",
       "      <td>2011</td>\n",
       "      <td>134672</td>\n",
       "      <td>1</td>\n",
       "    </tr>\n",
       "    <tr>\n",
       "      <th>535</th>\n",
       "      <td>0</td>\n",
       "      <td>3</td>\n",
       "      <td>2015</td>\n",
       "      <td>26418</td>\n",
       "      <td>1</td>\n",
       "    </tr>\n",
       "    <tr>\n",
       "      <th>695</th>\n",
       "      <td>1</td>\n",
       "      <td>3</td>\n",
       "      <td>2013</td>\n",
       "      <td>102622</td>\n",
       "      <td>0</td>\n",
       "    </tr>\n",
       "    <tr>\n",
       "      <th>557</th>\n",
       "      <td>0</td>\n",
       "      <td>0</td>\n",
       "      <td>2010</td>\n",
       "      <td>100958</td>\n",
       "      <td>0</td>\n",
       "    </tr>\n",
       "    <tr>\n",
       "      <th>836</th>\n",
       "      <td>2</td>\n",
       "      <td>0</td>\n",
       "      <td>2010</td>\n",
       "      <td>68159</td>\n",
       "      <td>0</td>\n",
       "    </tr>\n",
       "    <tr>\n",
       "      <th>...</th>\n",
       "      <td>...</td>\n",
       "      <td>...</td>\n",
       "      <td>...</td>\n",
       "      <td>...</td>\n",
       "      <td>...</td>\n",
       "    </tr>\n",
       "    <tr>\n",
       "      <th>106</th>\n",
       "      <td>0</td>\n",
       "      <td>2</td>\n",
       "      <td>2011</td>\n",
       "      <td>22840</td>\n",
       "      <td>0</td>\n",
       "    </tr>\n",
       "    <tr>\n",
       "      <th>270</th>\n",
       "      <td>3</td>\n",
       "      <td>4</td>\n",
       "      <td>2018</td>\n",
       "      <td>81973</td>\n",
       "      <td>1</td>\n",
       "    </tr>\n",
       "    <tr>\n",
       "      <th>860</th>\n",
       "      <td>2</td>\n",
       "      <td>2</td>\n",
       "      <td>2014</td>\n",
       "      <td>10120</td>\n",
       "      <td>0</td>\n",
       "    </tr>\n",
       "    <tr>\n",
       "      <th>435</th>\n",
       "      <td>0</td>\n",
       "      <td>3</td>\n",
       "      <td>2021</td>\n",
       "      <td>102564</td>\n",
       "      <td>0</td>\n",
       "    </tr>\n",
       "    <tr>\n",
       "      <th>102</th>\n",
       "      <td>3</td>\n",
       "      <td>3</td>\n",
       "      <td>2017</td>\n",
       "      <td>50778</td>\n",
       "      <td>0</td>\n",
       "    </tr>\n",
       "  </tbody>\n",
       "</table>\n",
       "<p>800 rows × 5 columns</p>\n",
       "</div>"
      ],
      "text/plain": [
       "     Make  Model  Year  Mileage  Condition\n",
       "29      2      3  2011   134672          1\n",
       "535     0      3  2015    26418          1\n",
       "695     1      3  2013   102622          0\n",
       "557     0      0  2010   100958          0\n",
       "836     2      0  2010    68159          0\n",
       "..    ...    ...   ...      ...        ...\n",
       "106     0      2  2011    22840          0\n",
       "270     3      4  2018    81973          1\n",
       "860     2      2  2014    10120          0\n",
       "435     0      3  2021   102564          0\n",
       "102     3      3  2017    50778          0\n",
       "\n",
       "[800 rows x 5 columns]"
      ]
     },
     "execution_count": 30,
     "metadata": {},
     "output_type": "execute_result"
    }
   ],
   "source": [
    "x_train"
   ]
  },
  {
   "cell_type": "code",
   "execution_count": 31,
   "id": "4f5ff969",
   "metadata": {},
   "outputs": [
    {
     "data": {
      "text/plain": [
       "29     24266.50\n",
       "535    25679.20\n",
       "695    23868.90\n",
       "557    26952.20\n",
       "836    28592.15\n",
       "         ...   \n",
       "106    29857.90\n",
       "270    19901.35\n",
       "860    27494.10\n",
       "435    15871.90\n",
       "102    22461.10\n",
       "Name: Price, Length: 800, dtype: float64"
      ]
     },
     "execution_count": 31,
     "metadata": {},
     "output_type": "execute_result"
    }
   ],
   "source": [
    "y_train"
   ]
  },
  {
   "cell_type": "code",
   "execution_count": 32,
   "id": "0d3778d9",
   "metadata": {},
   "outputs": [
    {
     "data": {
      "text/html": [
       "<div>\n",
       "<style scoped>\n",
       "    .dataframe tbody tr th:only-of-type {\n",
       "        vertical-align: middle;\n",
       "    }\n",
       "\n",
       "    .dataframe tbody tr th {\n",
       "        vertical-align: top;\n",
       "    }\n",
       "\n",
       "    .dataframe thead th {\n",
       "        text-align: right;\n",
       "    }\n",
       "</style>\n",
       "<table border=\"1\" class=\"dataframe\">\n",
       "  <thead>\n",
       "    <tr style=\"text-align: right;\">\n",
       "      <th></th>\n",
       "      <th>Make</th>\n",
       "      <th>Model</th>\n",
       "      <th>Year</th>\n",
       "      <th>Mileage</th>\n",
       "      <th>Condition</th>\n",
       "    </tr>\n",
       "  </thead>\n",
       "  <tbody>\n",
       "    <tr>\n",
       "      <th>521</th>\n",
       "      <td>4</td>\n",
       "      <td>0</td>\n",
       "      <td>2010</td>\n",
       "      <td>29791</td>\n",
       "      <td>0</td>\n",
       "    </tr>\n",
       "    <tr>\n",
       "      <th>737</th>\n",
       "      <td>4</td>\n",
       "      <td>3</td>\n",
       "      <td>2015</td>\n",
       "      <td>50227</td>\n",
       "      <td>1</td>\n",
       "    </tr>\n",
       "    <tr>\n",
       "      <th>740</th>\n",
       "      <td>3</td>\n",
       "      <td>3</td>\n",
       "      <td>2011</td>\n",
       "      <td>10893</td>\n",
       "      <td>0</td>\n",
       "    </tr>\n",
       "    <tr>\n",
       "      <th>660</th>\n",
       "      <td>4</td>\n",
       "      <td>4</td>\n",
       "      <td>2011</td>\n",
       "      <td>124052</td>\n",
       "      <td>0</td>\n",
       "    </tr>\n",
       "    <tr>\n",
       "      <th>411</th>\n",
       "      <td>0</td>\n",
       "      <td>1</td>\n",
       "      <td>2014</td>\n",
       "      <td>121589</td>\n",
       "      <td>0</td>\n",
       "    </tr>\n",
       "    <tr>\n",
       "      <th>...</th>\n",
       "      <td>...</td>\n",
       "      <td>...</td>\n",
       "      <td>...</td>\n",
       "      <td>...</td>\n",
       "      <td>...</td>\n",
       "    </tr>\n",
       "    <tr>\n",
       "      <th>408</th>\n",
       "      <td>4</td>\n",
       "      <td>3</td>\n",
       "      <td>2021</td>\n",
       "      <td>18104</td>\n",
       "      <td>0</td>\n",
       "    </tr>\n",
       "    <tr>\n",
       "      <th>332</th>\n",
       "      <td>0</td>\n",
       "      <td>1</td>\n",
       "      <td>2019</td>\n",
       "      <td>97616</td>\n",
       "      <td>1</td>\n",
       "    </tr>\n",
       "    <tr>\n",
       "      <th>208</th>\n",
       "      <td>2</td>\n",
       "      <td>4</td>\n",
       "      <td>2014</td>\n",
       "      <td>18854</td>\n",
       "      <td>2</td>\n",
       "    </tr>\n",
       "    <tr>\n",
       "      <th>613</th>\n",
       "      <td>3</td>\n",
       "      <td>1</td>\n",
       "      <td>2018</td>\n",
       "      <td>65718</td>\n",
       "      <td>0</td>\n",
       "    </tr>\n",
       "    <tr>\n",
       "      <th>78</th>\n",
       "      <td>4</td>\n",
       "      <td>3</td>\n",
       "      <td>2010</td>\n",
       "      <td>144751</td>\n",
       "      <td>0</td>\n",
       "    </tr>\n",
       "  </tbody>\n",
       "</table>\n",
       "<p>200 rows × 5 columns</p>\n",
       "</div>"
      ],
      "text/plain": [
       "     Make  Model  Year  Mileage  Condition\n",
       "521     4      0  2010    29791          0\n",
       "737     4      3  2015    50227          1\n",
       "740     3      3  2011    10893          0\n",
       "660     4      4  2011   124052          0\n",
       "411     0      1  2014   121589          0\n",
       "..    ...    ...   ...      ...        ...\n",
       "408     4      3  2021    18104          0\n",
       "332     0      1  2019    97616          1\n",
       "208     2      4  2014    18854          2\n",
       "613     3      1  2018    65718          0\n",
       "78      4      3  2010   144751          0\n",
       "\n",
       "[200 rows x 5 columns]"
      ]
     },
     "execution_count": 32,
     "metadata": {},
     "output_type": "execute_result"
    }
   ],
   "source": [
    "x_test"
   ]
  },
  {
   "cell_type": "markdown",
   "id": "3fd06c48",
   "metadata": {},
   "source": [
    "# MODEL BUILDING AND EVALUATION"
   ]
  },
  {
   "cell_type": "markdown",
   "id": "a9466649",
   "metadata": {},
   "source": [
    "# LINEAR REGRESSION"
   ]
  },
  {
   "cell_type": "code",
   "execution_count": 33,
   "id": "0514f54e",
   "metadata": {},
   "outputs": [
    {
     "name": "stdout",
     "output_type": "stream",
     "text": [
      "LinearRegression\n",
      "MSE= 0.004725039350788652\n"
     ]
    }
   ],
   "source": [
    "from sklearn.linear_model import LinearRegression\n",
    "from sklearn.metrics import mean_squared_error,accuracy_score,r2_score\n",
    "lr=LinearRegression() \n",
    "model1=lr.fit(x_train,y_train) \n",
    "y_pred=model1.predict(x_test)\n",
    "print('LinearRegression') \n",
    "print('MSE=',mean_squared_error(y_test,y_pred))\n",
    "\n"
   ]
  },
  {
   "cell_type": "code",
   "execution_count": 34,
   "id": "d2b7ff0a",
   "metadata": {},
   "outputs": [
    {
     "name": "stdout",
     "output_type": "stream",
     "text": [
      "LinearRegression\n",
      "r2_score =  0.9999999997668163\n"
     ]
    }
   ],
   "source": [
    "print('LinearRegression')\n",
    "print('r2_score = ',r2_score(y_test,y_pred))"
   ]
  },
  {
   "cell_type": "markdown",
   "id": "630457d1",
   "metadata": {},
   "source": [
    "# DECISIONTREE REGRESSION"
   ]
  },
  {
   "cell_type": "code",
   "execution_count": 36,
   "id": "bee988d5",
   "metadata": {},
   "outputs": [],
   "source": [
    "from sklearn.tree import DecisionTreeRegressor\n",
    "dt=DecisionTreeRegressor()\n",
    "model1=dt.fit(x_train,y_train)\n",
    "y_pred_dt=model1.predict(x_test)"
   ]
  },
  {
   "cell_type": "code",
   "execution_count": 37,
   "id": "cc6fafb2",
   "metadata": {},
   "outputs": [
    {
     "name": "stdout",
     "output_type": "stream",
     "text": [
      "DecisionTreeRegressor\n",
      "MSE = 0.004725039350788652\n",
      "r2_score = 0.9999999997668163\n"
     ]
    }
   ],
   "source": [
    "\n",
    "print('DecisionTreeRegressor')\n",
    "print('MSE =',mean_squared_error(y_test,y_pred))\n",
    "print('r2_score =',r2_score(y_test,y_pred))"
   ]
  },
  {
   "cell_type": "markdown",
   "id": "cd966a93",
   "metadata": {},
   "source": [
    "# RANDOMFOREST REGRESSION"
   ]
  },
  {
   "cell_type": "code",
   "execution_count": 38,
   "id": "670247a1",
   "metadata": {},
   "outputs": [],
   "source": [
    "from sklearn.ensemble import RandomForestRegressor\n",
    "rf_re=RandomForestRegressor()\n",
    "model3=rf_re.fit(x_train,y_train)\n",
    "y_pred_rf=model3.predict(x_test)"
   ]
  },
  {
   "cell_type": "code",
   "execution_count": 39,
   "id": "14a8cc51",
   "metadata": {},
   "outputs": [
    {
     "name": "stdout",
     "output_type": "stream",
     "text": [
      "RANDOMFOREST REGRESSOR\n",
      "MSE = 14347.538552737728\n",
      "r2_score = 0.9992919399846516\n"
     ]
    }
   ],
   "source": [
    "print('RANDOMFOREST REGRESSOR')\n",
    "print('MSE =',mean_squared_error(y_test,y_pred_rf))\n",
    "print('r2_score =',r2_score(y_test,y_pred_rf))"
   ]
  },
  {
   "cell_type": "markdown",
   "id": "67302dac",
   "metadata": {},
   "source": [
    "# GRADIENT BOOSTING REGRESSOR"
   ]
  },
  {
   "cell_type": "code",
   "execution_count": 40,
   "id": "7d2a2787",
   "metadata": {},
   "outputs": [],
   "source": [
    "from sklearn.ensemble import GradientBoostingRegressor\n",
    "gbr_re=GradientBoostingRegressor()\n",
    "model4=gbr_re.fit(x_train,y_train)\n",
    "y_pred_gbr=model4.predict(x_test)\n"
   ]
  },
  {
   "cell_type": "code",
   "execution_count": 41,
   "id": "969c47cd",
   "metadata": {},
   "outputs": [
    {
     "name": "stdout",
     "output_type": "stream",
     "text": [
      "GRADIENTBOOSTING REGRESSOR\n",
      "MSE= 20781.911037617694\n",
      "r2_score= 0.9989743996718199\n"
     ]
    }
   ],
   "source": [
    "print('GRADIENTBOOSTING REGRESSOR')\n",
    "print('MSE=',mean_squared_error(y_test,y_pred_gbr))\n",
    "print('r2_score=',r2_score(y_test,y_pred_gbr))\n"
   ]
  },
  {
   "cell_type": "markdown",
   "id": "a6c306ad",
   "metadata": {},
   "source": [
    "# ADABOOSTING REGRESSOR"
   ]
  },
  {
   "cell_type": "code",
   "execution_count": null,
   "id": "69488863",
   "metadata": {},
   "outputs": [],
   "source": [
    "from sklearn.ensemble import AdaBoostRegressor\n",
    "ab_re=AdaBoostRegressor()\n",
    "model5=ab_re.fit(x_train,y_train)\n",
    "y_pred_ab=model5.predict(x_test)"
   ]
  },
  {
   "cell_type": "code",
   "execution_count": null,
   "id": "697945c4",
   "metadata": {},
   "outputs": [],
   "source": [
    "print('ADABOOST REGRESSOR')\n",
    "print('MSE =',mean_squared_error(y_test,y_pred_ab))\n",
    "print('r2_score =',r2_score(y_test,y_pred_ab))"
   ]
  },
  {
   "cell_type": "markdown",
   "id": "d334cc11",
   "metadata": {},
   "source": [
    "# XGBOOST REGRESSOR"
   ]
  },
  {
   "cell_type": "code",
   "execution_count": 42,
   "id": "57a6510b",
   "metadata": {},
   "outputs": [],
   "source": [
    "from xgboost import XGBRegressor\n",
    "xgb_re=XGBRegressor()\n",
    "model6=xgb_re.fit(x_train,y_train)\n",
    "y_pred_xgb=model6.predict(x_test)"
   ]
  },
  {
   "cell_type": "code",
   "execution_count": 43,
   "id": "8344d697",
   "metadata": {},
   "outputs": [
    {
     "name": "stdout",
     "output_type": "stream",
     "text": [
      "XGBOOST REGRESSOR\n",
      "MSE = 21234.162999454504\n",
      "r2_score = 0.9989520807541977\n"
     ]
    }
   ],
   "source": [
    "print('XGBOOST REGRESSOR')\n",
    "print('MSE =',mean_squared_error(y_test,y_pred_xgb))\n",
    "print('r2_score =',r2_score(y_test,y_pred_xgb))"
   ]
  },
  {
   "cell_type": "code",
   "execution_count": 44,
   "id": "52bc4665",
   "metadata": {},
   "outputs": [
    {
     "data": {
      "text/html": [
       "<div>\n",
       "<style scoped>\n",
       "    .dataframe tbody tr th:only-of-type {\n",
       "        vertical-align: middle;\n",
       "    }\n",
       "\n",
       "    .dataframe tbody tr th {\n",
       "        vertical-align: top;\n",
       "    }\n",
       "\n",
       "    .dataframe thead th {\n",
       "        text-align: right;\n",
       "    }\n",
       "</style>\n",
       "<table border=\"1\" class=\"dataframe\">\n",
       "  <thead>\n",
       "    <tr style=\"text-align: right;\">\n",
       "      <th></th>\n",
       "      <th>Make</th>\n",
       "      <th>Model</th>\n",
       "      <th>Year</th>\n",
       "      <th>Mileage</th>\n",
       "      <th>Condition</th>\n",
       "      <th>Price</th>\n",
       "    </tr>\n",
       "  </thead>\n",
       "  <tbody>\n",
       "    <tr>\n",
       "      <th>995</th>\n",
       "      <td>3</td>\n",
       "      <td>1</td>\n",
       "      <td>2010</td>\n",
       "      <td>149032</td>\n",
       "      <td>0</td>\n",
       "      <td>24548.50</td>\n",
       "    </tr>\n",
       "    <tr>\n",
       "      <th>996</th>\n",
       "      <td>0</td>\n",
       "      <td>3</td>\n",
       "      <td>2014</td>\n",
       "      <td>20608</td>\n",
       "      <td>0</td>\n",
       "      <td>26969.70</td>\n",
       "    </tr>\n",
       "    <tr>\n",
       "      <th>997</th>\n",
       "      <td>1</td>\n",
       "      <td>0</td>\n",
       "      <td>2016</td>\n",
       "      <td>109851</td>\n",
       "      <td>2</td>\n",
       "      <td>20507.55</td>\n",
       "    </tr>\n",
       "    <tr>\n",
       "      <th>998</th>\n",
       "      <td>4</td>\n",
       "      <td>4</td>\n",
       "      <td>2010</td>\n",
       "      <td>11704</td>\n",
       "      <td>2</td>\n",
       "      <td>31414.90</td>\n",
       "    </tr>\n",
       "    <tr>\n",
       "      <th>999</th>\n",
       "      <td>3</td>\n",
       "      <td>4</td>\n",
       "      <td>2017</td>\n",
       "      <td>128390</td>\n",
       "      <td>0</td>\n",
       "      <td>18580.60</td>\n",
       "    </tr>\n",
       "  </tbody>\n",
       "</table>\n",
       "</div>"
      ],
      "text/plain": [
       "     Make  Model  Year  Mileage  Condition     Price\n",
       "995     3      1  2010   149032          0  24548.50\n",
       "996     0      3  2014    20608          0  26969.70\n",
       "997     1      0  2016   109851          2  20507.55\n",
       "998     4      4  2010    11704          2  31414.90\n",
       "999     3      4  2017   128390          0  18580.60"
      ]
     },
     "execution_count": 44,
     "metadata": {},
     "output_type": "execute_result"
    }
   ],
   "source": [
    "df.tail()"
   ]
  },
  {
   "cell_type": "markdown",
   "id": "ca0fcda8",
   "metadata": {},
   "source": [
    "# PREDICTION"
   ]
  },
  {
   "cell_type": "code",
   "execution_count": 45,
   "id": "66a79e97",
   "metadata": {},
   "outputs": [
    {
     "name": "stdout",
     "output_type": "stream",
     "text": [
      "[19094.75]\n"
     ]
    }
   ],
   "source": [
    "print(model1.predict([[1,4,2022,18107,0]]))"
   ]
  },
  {
   "cell_type": "code",
   "execution_count": 46,
   "id": "f0ff7302",
   "metadata": {},
   "outputs": [
    {
     "name": "stdout",
     "output_type": "stream",
     "text": [
      "[30850.4]\n"
     ]
    }
   ],
   "source": [
    "print(model1.predict([[4,4,2010,11704,2]]))"
   ]
  },
  {
   "cell_type": "code",
   "execution_count": 47,
   "id": "99df2f4f",
   "metadata": {},
   "outputs": [
    {
     "name": "stdout",
     "output_type": "stream",
     "text": [
      "[18580.6]\n"
     ]
    }
   ],
   "source": [
    "print(model1.predict([[3,4,2017,128390,0]]))"
   ]
  },
  {
   "cell_type": "code",
   "execution_count": null,
   "id": "8a70aaef",
   "metadata": {},
   "outputs": [],
   "source": []
  }
 ],
 "metadata": {
  "kernelspec": {
   "display_name": "Python 3 (ipykernel)",
   "language": "python",
   "name": "python3"
  },
  "language_info": {
   "codemirror_mode": {
    "name": "ipython",
    "version": 3
   },
   "file_extension": ".py",
   "mimetype": "text/x-python",
   "name": "python",
   "nbconvert_exporter": "python",
   "pygments_lexer": "ipython3",
   "version": "3.9.12"
  }
 },
 "nbformat": 4,
 "nbformat_minor": 5
}
